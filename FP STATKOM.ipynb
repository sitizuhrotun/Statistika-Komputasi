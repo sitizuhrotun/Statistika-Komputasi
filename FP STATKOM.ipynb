{
 "cells": [
  {
   "cell_type": "markdown",
   "metadata": {},
   "source": [
    "# PROYEKSI PENDUDUK MENURUT PROVINSI 2025"
   ]
  },
  {
   "cell_type": "markdown",
   "metadata": {},
   "source": [
    "# Chapter 2 : Data and Sampling Distributions"
   ]
  },
  {
   "cell_type": "code",
   "execution_count": null,
   "metadata": {},
   "outputs": [],
   "source": [
    "from pathlib import Path\n",
    "import pandas as pd\n",
    "import numpy as np\n",
    "import scipy.stats as stats\n",
    "import seaborn as sns\n",
    "import random\n",
    "import statsmodels.api as sm\n",
    "import statsmodels.formula.api as smf\n",
    "from statsmodels.stats import power\n",
    "from itertools import permutations\n",
    "from sklearn.utils import resample\n",
    "from sklearn.linear_model import LinearRegression\n",
    "from sklearn.model_selection import train_test_split\n",
    "\n",
    "import pylab\n",
    "import matplotlib.pylab as plt\n",
    "\n",
    "%matplotlib inline"
   ]
  },
  {
   "cell_type": "code",
   "execution_count": null,
   "metadata": {},
   "outputs": [],
   "source": [
    "DATA = Path('.').resolve().parents[1] / 'data'\n",
    "TUGAS_CSV = DATA / 'tugas.csv'"
   ]
  },
  {
   "cell_type": "code",
   "execution_count": null,
   "metadata": {},
   "outputs": [],
   "source": [
    "data = pd.read_csv(TUGAS_CSV)"
   ]
  },
  {
   "cell_type": "code",
   "execution_count": null,
   "metadata": {},
   "outputs": [],
   "source": [
    "print (data.head(41))"
   ]
  },
  {
   "cell_type": "markdown",
   "metadata": {},
   "source": [
    "# Distribusi Sampling"
   ]
  },
  {
   "cell_type": "code",
   "execution_count": null,
   "metadata": {},
   "outputs": [],
   "source": [
    "np.random.seed(seed=1)\n",
    "x = np.linspace(-3, 3, 300)\n",
    "xsample = stats.norm.rvs(size=1000)\n",
    "\n",
    "fig, axes = plt.subplots(ncols=2, figsize=(5, 1.5))\n",
    "\n",
    "ax = axes[0]\n",
    "ax.fill(x, stats.norm.pdf(x))\n",
    "ax.set_axis_off()\n",
    "ax.set_xlim(-3, 3)\n",
    "\n",
    "ax = axes[1]\n",
    "ax.hist(xsample, bins=30)\n",
    "ax.set_axis_off()\n",
    "ax.set_xlim(-3, 3)\n",
    "ax.set_position\n",
    "# plt.subplots_adjust(left=0, bottom=0, right=1, top=1, wspace=0, hspace=0)\n",
    "\n",
    "plt.show()"
   ]
  },
  {
   "cell_type": "code",
   "execution_count": null,
   "metadata": {},
   "outputs": [],
   "source": [
    "samples = data.sample(n=32)\n",
    "#rata-rata dari 5 sample\n",
    "sample_mean_5= samples.rolling(5).mean().jumlah\n",
    "sample_mean_5= sample_mean_5.dropna()\n",
    "\n",
    "#rata-rata dari 20 sample\n",
    "sample_mean_20 = samples.rolling(20).mean().jumlah\n",
    "sample_mean_20 = sample_mean_20.dropna()\n",
    "\n",
    "fig = plt.figure(figsize=(10,10))\n",
    "#distribusi penuh dari plot\n",
    "ax=fig.add_subplot (2,2,1)\n",
    "ax.hist(data.jumlah,bins=25)\n",
    "plt.title('full plot dari keseluruhan populasi')\n",
    "\n",
    "#distribusi dari 32 samples\n",
    "ax=fig.add_subplot (2,2,2)\n",
    "ax.hist(samples.jumlah,bins=32)\n",
    "plt.title('full plot dari 32 samples')\n",
    "\n",
    "#distribusi dari 10 samples\n",
    "ax=fig.add_subplot (2,2,3)\n",
    "ax.hist(sample_mean_5,bins=32)\n",
    "plt.title('plot dari rolling data mean 5 dari 32 samples')\n",
    "\n",
    "#distribusi dari 20 samples\n",
    "ax=fig.add_subplot (2,2,4)\n",
    "ax.hist(sample_mean_20,bins=32)\n",
    "plt.title('plot dari rolling data mean 20 dari 32 samples')\n",
    "\n",
    "plt.show()"
   ]
  },
  {
   "cell_type": "markdown",
   "metadata": {},
   "source": [
    "# Bootstrap"
   ]
  },
  {
   "cell_type": "code",
   "execution_count": null,
   "metadata": {},
   "outputs": [],
   "source": [
    "sample_data=data['jumlah'].sample(n=32)"
   ]
  },
  {
   "cell_type": "code",
   "execution_count": null,
   "metadata": {},
   "outputs": [],
   "source": [
    "#status populasi\n",
    "print('STD dari populasi total :',data.jumlah.std())\n",
    "print('rata-rata populasi :',data.jumlah.mean())\n",
    "print('median populasi :',np.median(data.jumlah))\n",
    "print('standar eror populasi :',stats.sem(data.jumlah, ddof=1))"
   ]
  },
  {
   "cell_type": "code",
   "execution_count": null,
   "metadata": {},
   "outputs": [],
   "source": [
    "#bootstrap data dari 5 dan 20 sample\n",
    "bootstrap_5 = np.random.choice(data.jumlah, size=5, replace=True)\n",
    "bootstrap_20 = np.random.choice(data.jumlah, size=20, replace=True)\n",
    "arr_bootstraps = [bootstrap_5,bootstrap_20]\n",
    "\n",
    "len(arr_bootstraps)"
   ]
  },
  {
   "cell_type": "code",
   "execution_count": null,
   "metadata": {},
   "outputs": [],
   "source": [
    "for i in range(len(arr_bootstraps)) :\n",
    "    print ('bootstrap stats untuk contoh sejumlah {}'.format(len(arr_bootstraps[i])))\n",
    "    print ('-------------------------------------------------------')\n",
    "    print ('Bootstrap std: ',np.std(arr_bootstraps[i],ddof=1))\n",
    "    print ('Rata-rata Bootstrap: ',np.mean(arr_bootstraps[i]))\n",
    "    print ('Median Bootstrap: ',np.median(arr_bootstraps[i]))\n",
    "    print ('Bias Bootstrap: ',data.jumlah.mean()-np.mean(arr_bootstraps[i]))\n",
    "    print ('standar error: ',stats.sem(arr_bootstraps[i],ddof=1))\n",
    "    print ('~~~~~~~~~~~~~~~~~~~~~~~~~~~~~~~~~~~~~~~~~~~~~~~~~~~~~~~')\n"
   ]
  },
  {
   "cell_type": "code",
   "execution_count": null,
   "metadata": {},
   "outputs": [],
   "source": [
    "results = []\n",
    "for nrepeat in range (32) :\n",
    "    sample=resample(data.jumlah)\n",
    "    results.append(sample.median())\n",
    "results=pd.Series(results)\n",
    "print ('Statistik Bootstrap: ')\n",
    "print (f'nilai asli: {data.jumlah.median()}')\n",
    "print (f'bias: {results.mean() - data.jumlah.median()}')\n",
    "print (f'std. error: {results.std()}')\n",
    "    "
   ]
  },
  {
   "cell_type": "markdown",
   "metadata": {},
   "source": [
    "# Confidence Intervals"
   ]
  },
  {
   "cell_type": "code",
   "execution_count": null,
   "metadata": {},
   "outputs": [],
   "source": [
    "print ('rata-rata data: ',data.jumlah.mean())\n",
    "np.random.seed(seed=3)\n",
    "\n",
    "#buat sample dari 20 data\n",
    "sample_20=resample(data.jumlah,n_samples=20,replace=False)\n",
    "print('rata-rata sample: ',sample_20.mean())\n",
    "results=[]\n",
    "for nrepeat in range (32) :\n",
    "    sample=resample(sample_20)\n",
    "    results.append(sample.mean())\n",
    "results=pd.Series(results)\n",
    "\n",
    "confidence_interval = list(results.quantile([0.05, 0.95]))\n",
    "ax = results.plot.hist(bins=32, figsize=(4, 3))\n",
    "ax.plot(confidence_interval, [55, 55], color='black')\n",
    "for x in confidence_interval:\n",
    "    ax.plot([x, x], [0, 20], color='black')\n",
    "    ax.text(x, 25, f'{x:.0f}', \n",
    "            horizontalalignment='center', verticalalignment='center')\n",
    "ax.text(sum(confidence_interval) / 2, 25, '90% interval',\n",
    "        horizontalalignment='center', verticalalignment='center')\n",
    "\n",
    "meanjumlah = results.mean()\n",
    "ax.plot([meanjumlah, meanjumlah], [0, 20], color='black', linestyle='--')\n",
    "ax.text(meanjumlah, 10, f'Mean: {meanjumlah:.0f}',\n",
    "        bbox=dict(facecolor='white', edgecolor='white', alpha=0.5),\n",
    "        horizontalalignment='center', verticalalignment='center')\n",
    "ax.set_ylim(0, 30)\n",
    "ax.set_ylabel('Counts')\n",
    "\n",
    "plt.tight_layout()\n",
    "plt.show()"
   ]
  },
  {
   "cell_type": "markdown",
   "metadata": {},
   "source": [
    "# Normal Distribution"
   ]
  },
  {
   "cell_type": "code",
   "execution_count": null,
   "metadata": {},
   "outputs": [],
   "source": [
    "fig, ax = plt.subplots(figsize=(4, 4))\n",
    "\n",
    "norm_sample = stats.norm.rvs(size=20)\n",
    "stats.probplot(norm_sample, plot=ax)\n",
    "\n",
    "plt.tight_layout()\n",
    "plt.show()"
   ]
  },
  {
   "cell_type": "code",
   "execution_count": null,
   "metadata": {},
   "outputs": [],
   "source": [
    "proyeksi_px = pd.read_csv(TUGAS_CSV)\n",
    "\n",
    "jumlah = proyeksi_px.jumlah\n",
    "jumlah = np.diff(np.log(jumlah[jumlah>0]))\n",
    "\n",
    "fig, ax = plt.subplots(figsize=(4, 4))\n",
    "stats.probplot(jumlah, plot=ax)\n",
    "\n",
    "plt.tight_layout()\n",
    "plt.show()"
   ]
  },
  {
   "cell_type": "markdown",
   "metadata": {},
   "source": [
    "# Chapter 3 : Statistial Experiments and Significance Testing"
   ]
  },
  {
   "cell_type": "code",
   "execution_count": null,
   "metadata": {},
   "outputs": [],
   "source": []
  }
 ],
 "metadata": {
  "kernelspec": {
   "display_name": "Python 3",
   "language": "python",
   "name": "python3"
  },
  "language_info": {
   "codemirror_mode": {
    "name": "ipython",
    "version": 3
   },
   "file_extension": ".py",
   "mimetype": "text/x-python",
   "name": "python",
   "nbconvert_exporter": "python",
   "pygments_lexer": "ipython3",
   "version": "3.8.3"
  }
 },
 "nbformat": 4,
 "nbformat_minor": 4
}
